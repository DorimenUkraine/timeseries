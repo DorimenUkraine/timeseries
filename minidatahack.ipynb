{
 "cells": [
  {
   "cell_type": "markdown",
   "metadata": {},
   "source": [
    "# Одна задача с временными рядами\n",
    "3-часовой хакатон"
   ]
  },
  {
   "cell_type": "code",
   "execution_count": 234,
   "metadata": {
    "collapsed": false
   },
   "outputs": [
    {
     "name": "stdout",
     "output_type": "stream",
     "text": [
      "Populating the interactive namespace from numpy and matplotlib\n"
     ]
    },
    {
     "name": "stderr",
     "output_type": "stream",
     "text": [
      "WARNING: pylab import has clobbered these variables: ['random']\n",
      "`%matplotlib` prevents importing * from pylab and numpy\n"
     ]
    }
   ],
   "source": [
    "import time\n",
    "import csv\n",
    "import pickle\n",
    "import random\n",
    "import time\n",
    "import numpy as np\n",
    "import pandas as pd\n",
    "import pylab as plt\n",
    "import seaborn as sns\n",
    "from functools import wraps\n",
    "from matplotlib.font_manager import FontProperties\n",
    "from scipy import interp\n",
    "import matplotlib.pyplot as plt\n",
    "from sklearn import cross_validation\n",
    "from sklearn import neighbors\n",
    "from sklearn import preprocessing\n",
    "from sklearn import tree\n",
    "from sklearn.ensemble import AdaBoostClassifier\n",
    "from sklearn import svm\n",
    "from sklearn.learning_curve import learning_curve\n",
    "from sklearn.metrics import accuracy_score\n",
    "from sklearn.cross_validation import train_test_split\n",
    "from sklearn.metrics import roc_curve, auc\n",
    "from sklearn.metrics import confusion_matrix\n",
    "from sklearn.decomposition import PCA\n",
    "\n",
    "%matplotlib inline\n",
    "pd.options.display.max_columns = None # выводить в датафрейме всё\n",
    "%pylab inline\n",
    "figsize(10, 3)\n",
    "\n",
    "#from matplotlib.pylab import rcParams\n",
    "#rcParams['figure.figsize'] = 15, 6"
   ]
  },
  {
   "cell_type": "markdown",
   "metadata": {},
   "source": [
    "## Загрузка данных"
   ]
  },
  {
   "cell_type": "code",
   "execution_count": 236,
   "metadata": {
    "collapsed": false
   },
   "outputs": [
    {
     "name": "stdout",
     "output_type": "stream",
     "text": [
      "time =  0.0\n"
     ]
    }
   ],
   "source": [
    "tm = time.time()\n",
    "train = pd.read_csv('d:\\\\Competitions\\\\minidatahack\\\\train.csv')\n",
    "print ('time = ', time.time() - tm)"
   ]
  },
  {
   "cell_type": "code",
   "execution_count": 237,
   "metadata": {
    "collapsed": false
   },
   "outputs": [
    {
     "name": "stdout",
     "output_type": "stream",
     "text": [
      "time =  0.0\n"
     ]
    }
   ],
   "source": [
    "tm = time.time()\n",
    "test = pd.read_csv('d:\\\\Competitions\\\\minidatahack\\\\test.csv')\n",
    "print ('time = ', time.time() - tm)"
   ]
  },
  {
   "cell_type": "code",
   "execution_count": null,
   "metadata": {
    "collapsed": true
   },
   "outputs": [],
   "source": [
    "# КСТАТИ парсинг дат при считывании\n",
    "# ateparse = lambda dates: pd.datetime.strptime(dates, '%Y-%m')\n",
    "# data = pd.read_csv('AirPassengers.csv', parse_dates='Month', index_col='Month',date_parser=dateparse)"
   ]
  },
  {
   "cell_type": "code",
   "execution_count": 238,
   "metadata": {
    "collapsed": false
   },
   "outputs": [
    {
     "data": {
      "text/html": [
       "<div>\n",
       "<table border=\"1\" class=\"dataframe\">\n",
       "  <thead>\n",
       "    <tr style=\"text-align: right;\">\n",
       "      <th></th>\n",
       "      <th>0</th>\n",
       "      <th>1</th>\n",
       "      <th>2</th>\n",
       "      <th>3</th>\n",
       "      <th>4</th>\n",
       "      <th>5</th>\n",
       "      <th>6</th>\n",
       "      <th>7</th>\n",
       "      <th>8</th>\n",
       "      <th>9</th>\n",
       "    </tr>\n",
       "  </thead>\n",
       "  <tbody>\n",
       "    <tr>\n",
       "      <th>Date</th>\n",
       "      <td>1-Jan-09</td>\n",
       "      <td>2-Jan-09</td>\n",
       "      <td>3-Jan-09</td>\n",
       "      <td>4-Jan-09</td>\n",
       "      <td>5-Jan-09</td>\n",
       "      <td>6-Jan-09</td>\n",
       "      <td>7-Jan-09</td>\n",
       "      <td>8-Jan-09</td>\n",
       "      <td>9-Jan-09</td>\n",
       "      <td>10-Jan-09</td>\n",
       "    </tr>\n",
       "  </tbody>\n",
       "</table>\n",
       "</div>"
      ],
      "text/plain": [
       "             0         1         2         3         4         5         6  \\\n",
       "Date  1-Jan-09  2-Jan-09  3-Jan-09  4-Jan-09  5-Jan-09  6-Jan-09  7-Jan-09   \n",
       "\n",
       "             7         8          9  \n",
       "Date  8-Jan-09  9-Jan-09  10-Jan-09  "
      ]
     },
     "execution_count": 238,
     "metadata": {},
     "output_type": "execute_result"
    }
   ],
   "source": [
    "test[:10].T"
   ]
  },
  {
   "cell_type": "code",
   "execution_count": 239,
   "metadata": {
    "collapsed": false
   },
   "outputs": [
    {
     "data": {
      "text/html": [
       "<div>\n",
       "<table border=\"1\" class=\"dataframe\">\n",
       "  <thead>\n",
       "    <tr style=\"text-align: right;\">\n",
       "      <th></th>\n",
       "      <th>0</th>\n",
       "      <th>1</th>\n",
       "      <th>2</th>\n",
       "      <th>3</th>\n",
       "      <th>4</th>\n",
       "      <th>5</th>\n",
       "      <th>6</th>\n",
       "      <th>7</th>\n",
       "      <th>8</th>\n",
       "      <th>9</th>\n",
       "    </tr>\n",
       "  </thead>\n",
       "  <tbody>\n",
       "    <tr>\n",
       "      <th>Date</th>\n",
       "      <td>1-Jan-07</td>\n",
       "      <td>2-Jan-07</td>\n",
       "      <td>3-Jan-07</td>\n",
       "      <td>4-Jan-07</td>\n",
       "      <td>5-Jan-07</td>\n",
       "      <td>6-Jan-07</td>\n",
       "      <td>9-Jan-07</td>\n",
       "      <td>11-Jan-07</td>\n",
       "      <td>12-Jan-07</td>\n",
       "      <td>13-Jan-07</td>\n",
       "    </tr>\n",
       "    <tr>\n",
       "      <th>Number_SKU_Sold</th>\n",
       "      <td>31762</td>\n",
       "      <td>285955</td>\n",
       "      <td>740781</td>\n",
       "      <td>508796</td>\n",
       "      <td>445951</td>\n",
       "      <td>347351</td>\n",
       "      <td>269415</td>\n",
       "      <td>286603</td>\n",
       "      <td>334356</td>\n",
       "      <td>137819</td>\n",
       "    </tr>\n",
       "  </tbody>\n",
       "</table>\n",
       "</div>"
      ],
      "text/plain": [
       "                        0         1         2         3         4         5  \\\n",
       "Date             1-Jan-07  2-Jan-07  3-Jan-07  4-Jan-07  5-Jan-07  6-Jan-07   \n",
       "Number_SKU_Sold     31762    285955    740781    508796    445951    347351   \n",
       "\n",
       "                        6          7          8          9  \n",
       "Date             9-Jan-07  11-Jan-07  12-Jan-07  13-Jan-07  \n",
       "Number_SKU_Sold    269415     286603     334356     137819  "
      ]
     },
     "execution_count": 239,
     "metadata": {},
     "output_type": "execute_result"
    }
   ],
   "source": [
    "train[:10].T"
   ]
  },
  {
   "cell_type": "markdown",
   "metadata": {},
   "source": [
    "## Переиндексация\n",
    "чтобы получились полноценные временные ряды"
   ]
  },
  {
   "cell_type": "code",
   "execution_count": 240,
   "metadata": {
    "collapsed": false
   },
   "outputs": [
    {
     "data": {
      "text/html": [
       "<div>\n",
       "<table border=\"1\" class=\"dataframe\">\n",
       "  <thead>\n",
       "    <tr style=\"text-align: right;\">\n",
       "      <th>Date</th>\n",
       "      <th>2007-01-01 00:00:00</th>\n",
       "      <th>2007-01-02 00:00:00</th>\n",
       "      <th>2007-01-03 00:00:00</th>\n",
       "      <th>2007-01-04 00:00:00</th>\n",
       "      <th>2007-01-05 00:00:00</th>\n",
       "      <th>2007-01-06 00:00:00</th>\n",
       "      <th>2007-01-09 00:00:00</th>\n",
       "      <th>2007-01-11 00:00:00</th>\n",
       "      <th>2007-01-12 00:00:00</th>\n",
       "      <th>2007-01-13 00:00:00</th>\n",
       "    </tr>\n",
       "  </thead>\n",
       "  <tbody>\n",
       "    <tr>\n",
       "      <th>Date</th>\n",
       "      <td>2007-01-01 00:00:00</td>\n",
       "      <td>2007-01-02 00:00:00</td>\n",
       "      <td>2007-01-03 00:00:00</td>\n",
       "      <td>2007-01-04 00:00:00</td>\n",
       "      <td>2007-01-05 00:00:00</td>\n",
       "      <td>2007-01-06 00:00:00</td>\n",
       "      <td>2007-01-09 00:00:00</td>\n",
       "      <td>2007-01-11 00:00:00</td>\n",
       "      <td>2007-01-12 00:00:00</td>\n",
       "      <td>2007-01-13 00:00:00</td>\n",
       "    </tr>\n",
       "    <tr>\n",
       "      <th>Number_SKU_Sold</th>\n",
       "      <td>31762</td>\n",
       "      <td>285955</td>\n",
       "      <td>740781</td>\n",
       "      <td>508796</td>\n",
       "      <td>445951</td>\n",
       "      <td>347351</td>\n",
       "      <td>269415</td>\n",
       "      <td>286603</td>\n",
       "      <td>334356</td>\n",
       "      <td>137819</td>\n",
       "    </tr>\n",
       "    <tr>\n",
       "      <th>ind</th>\n",
       "      <td>0</td>\n",
       "      <td>1</td>\n",
       "      <td>2</td>\n",
       "      <td>3</td>\n",
       "      <td>4</td>\n",
       "      <td>5</td>\n",
       "      <td>6</td>\n",
       "      <td>7</td>\n",
       "      <td>8</td>\n",
       "      <td>9</td>\n",
       "    </tr>\n",
       "  </tbody>\n",
       "</table>\n",
       "</div>"
      ],
      "text/plain": [
       "Date                      2007-01-01           2007-01-02  \\\n",
       "Date             2007-01-01 00:00:00  2007-01-02 00:00:00   \n",
       "Number_SKU_Sold                31762               285955   \n",
       "ind                                0                    1   \n",
       "\n",
       "Date                      2007-01-03           2007-01-04  \\\n",
       "Date             2007-01-03 00:00:00  2007-01-04 00:00:00   \n",
       "Number_SKU_Sold               740781               508796   \n",
       "ind                                2                    3   \n",
       "\n",
       "Date                      2007-01-05           2007-01-06  \\\n",
       "Date             2007-01-05 00:00:00  2007-01-06 00:00:00   \n",
       "Number_SKU_Sold               445951               347351   \n",
       "ind                                4                    5   \n",
       "\n",
       "Date                      2007-01-09           2007-01-11  \\\n",
       "Date             2007-01-09 00:00:00  2007-01-11 00:00:00   \n",
       "Number_SKU_Sold               269415               286603   \n",
       "ind                                6                    7   \n",
       "\n",
       "Date                      2007-01-12           2007-01-13  \n",
       "Date             2007-01-12 00:00:00  2007-01-13 00:00:00  \n",
       "Number_SKU_Sold               334356               137819  \n",
       "ind                                8                    9  "
      ]
     },
     "execution_count": 240,
     "metadata": {},
     "output_type": "execute_result"
    }
   ],
   "source": [
    "train['Date'] = pd.to_datetime(train['Date'])\n",
    "train['ind'] = train.index\n",
    "train.index = train['Date']\n",
    "train[:10].T"
   ]
  },
  {
   "cell_type": "code",
   "execution_count": 241,
   "metadata": {
    "collapsed": false
   },
   "outputs": [
    {
     "data": {
      "text/html": [
       "<div>\n",
       "<table border=\"1\" class=\"dataframe\">\n",
       "  <thead>\n",
       "    <tr style=\"text-align: right;\">\n",
       "      <th></th>\n",
       "      <th>0</th>\n",
       "      <th>1</th>\n",
       "      <th>2</th>\n",
       "      <th>3</th>\n",
       "      <th>4</th>\n",
       "      <th>5</th>\n",
       "      <th>6</th>\n",
       "      <th>7</th>\n",
       "      <th>8</th>\n",
       "      <th>9</th>\n",
       "    </tr>\n",
       "  </thead>\n",
       "  <tbody>\n",
       "    <tr>\n",
       "      <th>Date</th>\n",
       "      <td>2009-01-01</td>\n",
       "      <td>2009-01-02</td>\n",
       "      <td>2009-01-03</td>\n",
       "      <td>2009-01-04</td>\n",
       "      <td>2009-01-05</td>\n",
       "      <td>2009-01-06</td>\n",
       "      <td>2009-01-07</td>\n",
       "      <td>2009-01-08</td>\n",
       "      <td>2009-01-09</td>\n",
       "      <td>2009-01-10</td>\n",
       "    </tr>\n",
       "  </tbody>\n",
       "</table>\n",
       "</div>"
      ],
      "text/plain": [
       "              0          1          2          3          4          5  \\\n",
       "Date 2009-01-01 2009-01-02 2009-01-03 2009-01-04 2009-01-05 2009-01-06   \n",
       "\n",
       "              6          7          8          9  \n",
       "Date 2009-01-07 2009-01-08 2009-01-09 2009-01-10  "
      ]
     },
     "execution_count": 241,
     "metadata": {},
     "output_type": "execute_result"
    }
   ],
   "source": [
    "test['Date'] = pd.to_datetime(test['Date'])\n",
    "#test['ind'] = test.index\n",
    "#test.index = test['Date']\n",
    "test[:10].T"
   ]
  },
  {
   "cell_type": "markdown",
   "metadata": {},
   "source": [
    "## Визуализация"
   ]
  },
  {
   "cell_type": "code",
   "execution_count": 242,
   "metadata": {
    "collapsed": false
   },
   "outputs": [
    {
     "data": {
      "text/plain": [
       "<matplotlib.axes._subplots.AxesSubplot at 0x114d4cc0>"
      ]
     },
     "execution_count": 242,
     "metadata": {},
     "output_type": "execute_result"
    },
    {
     "data": {
      "image/png": "[encoded data removed]",
      "text/plain": [
       "<matplotlib.figure.Figure at 0x1121add8>"
      ]
     },
     "metadata": {},
     "output_type": "display_data"
    }
   ],
   "source": [
    "figsize(15, 4)\n",
    "train.Number_SKU_Sold.plot()"
   ]
  },
  {
   "cell_type": "code",
   "execution_count": 243,
   "metadata": {
    "collapsed": false
   },
   "outputs": [
    {
     "data": {
      "text/plain": [
       "<matplotlib.axes._subplots.AxesSubplot at 0x10131e80>"
      ]
     },
     "execution_count": 243,
     "metadata": {},
     "output_type": "execute_result"
    },
    {
     "data": {
      "image/png": "[encoded data removed]",
      "text/plain": [
       "<matplotlib.figure.Figure at 0x11357860>"
      ]
     },
     "metadata": {},
     "output_type": "display_data"
    }
   ],
   "source": [
    "tmp = train.Date.dt # для удобства\n",
    "train[tmp.year == 2007].Number_SKU_Sold.plot()\n",
    "train[tmp.year == 2008].Number_SKU_Sold.plot()"
   ]
  },
  {
   "cell_type": "markdown",
   "metadata": {},
   "source": [
    "Так лучше видно - что происходит в конце года"
   ]
  },
  {
   "cell_type": "code",
   "execution_count": 244,
   "metadata": {
    "collapsed": false
   },
   "outputs": [
    {
     "data": {
      "text/plain": [
       "[<matplotlib.lines.Line2D at 0x115b7b00>]"
      ]
     },
     "execution_count": 244,
     "metadata": {},
     "output_type": "execute_result"
    },
    {
     "data": {
      "image/png": "[encoded data removed]",
      "text/plain": [
       "<matplotlib.figure.Figure at 0x115b7b38>"
      ]
     },
     "metadata": {},
     "output_type": "display_data"
    }
   ],
   "source": [
    "# на одном графике\n",
    "\n",
    "tmp1 = train[tmp.year == 2007].Number_SKU_Sold\n",
    "tmp2 = train[tmp.year == 2008].Number_SKU_Sold\n",
    "\n",
    "tmp1 = tmp1.reset_index()\n",
    "tmp2 = tmp2.reset_index()\n",
    "\n",
    "plt.plot(tmp1.Number_SKU_Sold.values)\n",
    "plt.plot(tmp2.Number_SKU_Sold.values)"
   ]
  },
  {
   "cell_type": "markdown",
   "metadata": {},
   "source": [
    "Не все дни года есть!"
   ]
  },
  {
   "cell_type": "code",
   "execution_count": 246,
   "metadata": {
    "collapsed": false
   },
   "outputs": [
    {
     "name": "stdout",
     "output_type": "stream",
     "text": [
      "(298,)\n",
      "(289,)\n"
     ]
    }
   ],
   "source": [
    "print(tmp1.Number_SKU_Sold.values.shape)\n",
    "print(tmp2.Number_SKU_Sold.values.shape)"
   ]
  },
  {
   "cell_type": "markdown",
   "metadata": {},
   "source": [
    "## Статистика по дням года"
   ]
  },
  {
   "cell_type": "code",
   "execution_count": 249,
   "metadata": {
    "collapsed": false
   },
   "outputs": [
    {
     "name": "stdout",
     "output_type": "stream",
     "text": [
      "0    94\n",
      "1    99\n",
      "2    98\n",
      "3    97\n",
      "4    93\n",
      "5    89\n",
      "6    17\n",
      "Name: Date, dtype: int64\n"
     ]
    }
   ],
   "source": [
    "print (pd.value_counts(train.Date.dt.dayofweek, sort=False))\n",
    "\n",
    "# эквивалент\n",
    "# train['dayofweek'] = train.Date.dt.dayofweek\n",
    "# train.groupby('dayofweek').size()"
   ]
  },
  {
   "cell_type": "markdown",
   "metadata": {},
   "source": [
    "КАК СДЕЛАТЬ ГИСТОГРАММЫ:"
   ]
  },
  {
   "cell_type": "code",
   "execution_count": 254,
   "metadata": {
    "collapsed": false
   },
   "outputs": [
    {
     "data": {
      "text/plain": [
       "<matplotlib.axes._subplots.AxesSubplot at 0xfeaa8d0>"
      ]
     },
     "execution_count": 254,
     "metadata": {},
     "output_type": "execute_result"
    },
    {
     "data": {
      "image/png": "[encoded data removed]",
      "text/plain": [
       "<matplotlib.figure.Figure at 0xfd7d940>"
      ]
     },
     "metadata": {},
     "output_type": "display_data"
    }
   ],
   "source": [
    "train[tmp.year==2007].Date.dt.dayofweek.hist(bins=7)\n",
    "train[tmp.year==2008].Date.dt.dayofweek.hist(bins=7)"
   ]
  },
  {
   "cell_type": "code",
   "execution_count": 256,
   "metadata": {
    "collapsed": false
   },
   "outputs": [
    {
     "name": "stdout",
     "output_type": "stream",
     "text": [
      "0    52\n",
      "1    52\n",
      "2    52\n",
      "3    53\n",
      "4    52\n",
      "5    52\n",
      "6    52\n",
      "Name: Date, dtype: int64\n"
     ]
    }
   ],
   "source": [
    "print (pd.value_counts(test.Date.dt.dayofweek, sort=False))"
   ]
  },
  {
   "cell_type": "markdown",
   "metadata": {},
   "source": [
    "В тесте тупо все даты 2009 года"
   ]
  },
  {
   "cell_type": "code",
   "execution_count": 259,
   "metadata": {
    "collapsed": false
   },
   "outputs": [
    {
     "name": "stdout",
     "output_type": "stream",
     "text": [
      "(298, 3)\n",
      "(289, 3)\n",
      "(365, 1)\n"
     ]
    }
   ],
   "source": [
    "print (train[tmp.year==2007].shape)\n",
    "print (train[tmp.year==2008].shape)\n",
    "print (test.shape)"
   ]
  },
  {
   "cell_type": "code",
   "execution_count": null,
   "metadata": {
    "collapsed": true
   },
   "outputs": [],
   "source": []
  },
  {
   "cell_type": "markdown",
   "metadata": {},
   "source": [
    "## Чтобы посмотреть на одном годе\n",
    "Запихнём всё в 2008-й - он високосный"
   ]
  },
  {
   "cell_type": "code",
   "execution_count": 264,
   "metadata": {
    "collapsed": false
   },
   "outputs": [],
   "source": [
    "tmp1['Date2'] = tmp1.Date.apply(lambda x: str(x).replace('2007', '2008'))\n",
    "#tmp2['Date2'] = tmp2.Date.apply(lambda x: str(x).replace('2008', '2009'))\n",
    "tmp2['Date2'] = tmp2.Date\n",
    "\n",
    "tmp1['Date2'] = pd.to_datetime(tmp1['Date2'])\n",
    "tmp2['Date2'] = pd.to_datetime(tmp2['Date2'])\n",
    "\n",
    "tmp1.index = tmp1['Date2']\n",
    "tmp2.index = tmp2['Date2']"
   ]
  },
  {
   "cell_type": "code",
   "execution_count": 265,
   "metadata": {
    "collapsed": false
   },
   "outputs": [
    {
     "data": {
      "text/plain": [
       "<matplotlib.axes._subplots.AxesSubplot at 0x116ca128>"
      ]
     },
     "execution_count": 265,
     "metadata": {},
     "output_type": "execute_result"
    },
    {
     "data": {
      "image/png": "[encoded data removed]",
      "text/plain": [
       "<matplotlib.figure.Figure at 0x1166df60>"
      ]
     },
     "metadata": {},
     "output_type": "display_data"
    }
   ],
   "source": [
    "tmp1.Number_SKU_Sold.plot()\n",
    "tmp2.Number_SKU_Sold.plot()"
   ]
  },
  {
   "cell_type": "code",
   "execution_count": 266,
   "metadata": {
    "collapsed": false
   },
   "outputs": [
    {
     "data": {
      "text/html": [
       "<div>\n",
       "<table border=\"1\" class=\"dataframe\">\n",
       "  <thead>\n",
       "    <tr style=\"text-align: right;\">\n",
       "      <th>Date2</th>\n",
       "      <th>2008-01-01 00:00:00</th>\n",
       "      <th>2008-01-02 00:00:00</th>\n",
       "      <th>2008-01-03 00:00:00</th>\n",
       "      <th>2008-01-04 00:00:00</th>\n",
       "      <th>2008-01-05 00:00:00</th>\n",
       "      <th>2008-01-06 00:00:00</th>\n",
       "      <th>2008-01-09 00:00:00</th>\n",
       "      <th>2008-01-11 00:00:00</th>\n",
       "      <th>2008-01-12 00:00:00</th>\n",
       "      <th>2008-01-13 00:00:00</th>\n",
       "    </tr>\n",
       "  </thead>\n",
       "  <tbody>\n",
       "    <tr>\n",
       "      <th>Date</th>\n",
       "      <td>2007-01-01 00:00:00</td>\n",
       "      <td>2007-01-02 00:00:00</td>\n",
       "      <td>2007-01-03 00:00:00</td>\n",
       "      <td>2007-01-04 00:00:00</td>\n",
       "      <td>2007-01-05 00:00:00</td>\n",
       "      <td>2007-01-06 00:00:00</td>\n",
       "      <td>2007-01-09 00:00:00</td>\n",
       "      <td>2007-01-11 00:00:00</td>\n",
       "      <td>2007-01-12 00:00:00</td>\n",
       "      <td>2007-01-13 00:00:00</td>\n",
       "    </tr>\n",
       "    <tr>\n",
       "      <th>Number_SKU_Sold</th>\n",
       "      <td>31762</td>\n",
       "      <td>285955</td>\n",
       "      <td>740781</td>\n",
       "      <td>508796</td>\n",
       "      <td>445951</td>\n",
       "      <td>347351</td>\n",
       "      <td>269415</td>\n",
       "      <td>286603</td>\n",
       "      <td>334356</td>\n",
       "      <td>137819</td>\n",
       "    </tr>\n",
       "    <tr>\n",
       "      <th>Date2</th>\n",
       "      <td>2008-01-01 00:00:00</td>\n",
       "      <td>2008-01-02 00:00:00</td>\n",
       "      <td>2008-01-03 00:00:00</td>\n",
       "      <td>2008-01-04 00:00:00</td>\n",
       "      <td>2008-01-05 00:00:00</td>\n",
       "      <td>2008-01-06 00:00:00</td>\n",
       "      <td>2008-01-09 00:00:00</td>\n",
       "      <td>2008-01-11 00:00:00</td>\n",
       "      <td>2008-01-12 00:00:00</td>\n",
       "      <td>2008-01-13 00:00:00</td>\n",
       "    </tr>\n",
       "  </tbody>\n",
       "</table>\n",
       "</div>"
      ],
      "text/plain": [
       "Date2                     2008-01-01           2008-01-02  \\\n",
       "Date             2007-01-01 00:00:00  2007-01-02 00:00:00   \n",
       "Number_SKU_Sold                31762               285955   \n",
       "Date2            2008-01-01 00:00:00  2008-01-02 00:00:00   \n",
       "\n",
       "Date2                     2008-01-03           2008-01-04  \\\n",
       "Date             2007-01-03 00:00:00  2007-01-04 00:00:00   \n",
       "Number_SKU_Sold               740781               508796   \n",
       "Date2            2008-01-03 00:00:00  2008-01-04 00:00:00   \n",
       "\n",
       "Date2                     2008-01-05           2008-01-06  \\\n",
       "Date             2007-01-05 00:00:00  2007-01-06 00:00:00   \n",
       "Number_SKU_Sold               445951               347351   \n",
       "Date2            2008-01-05 00:00:00  2008-01-06 00:00:00   \n",
       "\n",
       "Date2                     2008-01-09           2008-01-11  \\\n",
       "Date             2007-01-09 00:00:00  2007-01-11 00:00:00   \n",
       "Number_SKU_Sold               269415               286603   \n",
       "Date2            2008-01-09 00:00:00  2008-01-11 00:00:00   \n",
       "\n",
       "Date2                     2008-01-12           2008-01-13  \n",
       "Date             2007-01-12 00:00:00  2007-01-13 00:00:00  \n",
       "Number_SKU_Sold               334356               137819  \n",
       "Date2            2008-01-12 00:00:00  2008-01-13 00:00:00  "
      ]
     },
     "execution_count": 266,
     "metadata": {},
     "output_type": "execute_result"
    }
   ],
   "source": [
    "tmp1[:10].T"
   ]
  },
  {
   "cell_type": "code",
   "execution_count": 267,
   "metadata": {
    "collapsed": false
   },
   "outputs": [
    {
     "data": {
      "text/html": [
       "<div>\n",
       "<table border=\"1\" class=\"dataframe\">\n",
       "  <thead>\n",
       "    <tr style=\"text-align: right;\">\n",
       "      <th>Date2</th>\n",
       "      <th>2008-01-08 00:00:00</th>\n",
       "      <th>2008-01-09 00:00:00</th>\n",
       "      <th>2008-01-10 00:00:00</th>\n",
       "      <th>2008-01-11 00:00:00</th>\n",
       "      <th>2008-01-12 00:00:00</th>\n",
       "      <th>2008-01-14 00:00:00</th>\n",
       "      <th>2008-01-15 00:00:00</th>\n",
       "      <th>2008-01-16 00:00:00</th>\n",
       "      <th>2008-01-17 00:00:00</th>\n",
       "      <th>2008-01-18 00:00:00</th>\n",
       "    </tr>\n",
       "  </thead>\n",
       "  <tbody>\n",
       "    <tr>\n",
       "      <th>Date</th>\n",
       "      <td>2008-01-08 00:00:00</td>\n",
       "      <td>2008-01-09 00:00:00</td>\n",
       "      <td>2008-01-10 00:00:00</td>\n",
       "      <td>2008-01-11 00:00:00</td>\n",
       "      <td>2008-01-12 00:00:00</td>\n",
       "      <td>2008-01-14 00:00:00</td>\n",
       "      <td>2008-01-15 00:00:00</td>\n",
       "      <td>2008-01-16 00:00:00</td>\n",
       "      <td>2008-01-17 00:00:00</td>\n",
       "      <td>2008-01-18 00:00:00</td>\n",
       "    </tr>\n",
       "    <tr>\n",
       "      <th>Number_SKU_Sold</th>\n",
       "      <td>654647</td>\n",
       "      <td>734285</td>\n",
       "      <td>1889530</td>\n",
       "      <td>1243790</td>\n",
       "      <td>2189177</td>\n",
       "      <td>1399967</td>\n",
       "      <td>1125297</td>\n",
       "      <td>2045065</td>\n",
       "      <td>1407984</td>\n",
       "      <td>726871</td>\n",
       "    </tr>\n",
       "    <tr>\n",
       "      <th>Date2</th>\n",
       "      <td>2008-01-08 00:00:00</td>\n",
       "      <td>2008-01-09 00:00:00</td>\n",
       "      <td>2008-01-10 00:00:00</td>\n",
       "      <td>2008-01-11 00:00:00</td>\n",
       "      <td>2008-01-12 00:00:00</td>\n",
       "      <td>2008-01-14 00:00:00</td>\n",
       "      <td>2008-01-15 00:00:00</td>\n",
       "      <td>2008-01-16 00:00:00</td>\n",
       "      <td>2008-01-17 00:00:00</td>\n",
       "      <td>2008-01-18 00:00:00</td>\n",
       "    </tr>\n",
       "  </tbody>\n",
       "</table>\n",
       "</div>"
      ],
      "text/plain": [
       "Date2                     2008-01-08           2008-01-09  \\\n",
       "Date             2008-01-08 00:00:00  2008-01-09 00:00:00   \n",
       "Number_SKU_Sold               654647               734285   \n",
       "Date2            2008-01-08 00:00:00  2008-01-09 00:00:00   \n",
       "\n",
       "Date2                     2008-01-10           2008-01-11  \\\n",
       "Date             2008-01-10 00:00:00  2008-01-11 00:00:00   \n",
       "Number_SKU_Sold              1889530              1243790   \n",
       "Date2            2008-01-10 00:00:00  2008-01-11 00:00:00   \n",
       "\n",
       "Date2                     2008-01-12           2008-01-14  \\\n",
       "Date             2008-01-12 00:00:00  2008-01-14 00:00:00   \n",
       "Number_SKU_Sold              2189177              1399967   \n",
       "Date2            2008-01-12 00:00:00  2008-01-14 00:00:00   \n",
       "\n",
       "Date2                     2008-01-15           2008-01-16  \\\n",
       "Date             2008-01-15 00:00:00  2008-01-16 00:00:00   \n",
       "Number_SKU_Sold              1125297              2045065   \n",
       "Date2            2008-01-15 00:00:00  2008-01-16 00:00:00   \n",
       "\n",
       "Date2                     2008-01-17           2008-01-18  \n",
       "Date             2008-01-17 00:00:00  2008-01-18 00:00:00  \n",
       "Number_SKU_Sold              1407984               726871  \n",
       "Date2            2008-01-17 00:00:00  2008-01-18 00:00:00  "
      ]
     },
     "execution_count": 267,
     "metadata": {},
     "output_type": "execute_result"
    }
   ],
   "source": [
    "tmp2[:10].T"
   ]
  },
  {
   "cell_type": "code",
   "execution_count": 268,
   "metadata": {
    "collapsed": false
   },
   "outputs": [
    {
     "data": {
      "text/html": [
       "<div>\n",
       "<table border=\"1\" class=\"dataframe\">\n",
       "  <thead>\n",
       "    <tr style=\"text-align: right;\">\n",
       "      <th>Date2</th>\n",
       "      <th>2008-01-01 00:00:00</th>\n",
       "      <th>2008-01-02 00:00:00</th>\n",
       "      <th>2008-01-03 00:00:00</th>\n",
       "      <th>2008-01-04 00:00:00</th>\n",
       "      <th>2008-01-05 00:00:00</th>\n",
       "      <th>2008-01-06 00:00:00</th>\n",
       "      <th>2008-01-07 00:00:00</th>\n",
       "      <th>2008-01-08 00:00:00</th>\n",
       "      <th>2008-01-09 00:00:00</th>\n",
       "      <th>2008-01-10 00:00:00</th>\n",
       "    </tr>\n",
       "  </thead>\n",
       "  <tbody>\n",
       "    <tr>\n",
       "      <th>Date</th>\n",
       "      <td>2009-01-01</td>\n",
       "      <td>2009-01-02</td>\n",
       "      <td>2009-01-03</td>\n",
       "      <td>2009-01-04</td>\n",
       "      <td>2009-01-05</td>\n",
       "      <td>2009-01-06</td>\n",
       "      <td>2009-01-07</td>\n",
       "      <td>2009-01-08</td>\n",
       "      <td>2009-01-09</td>\n",
       "      <td>2009-01-10</td>\n",
       "    </tr>\n",
       "    <tr>\n",
       "      <th>Date2</th>\n",
       "      <td>2008-01-01</td>\n",
       "      <td>2008-01-02</td>\n",
       "      <td>2008-01-03</td>\n",
       "      <td>2008-01-04</td>\n",
       "      <td>2008-01-05</td>\n",
       "      <td>2008-01-06</td>\n",
       "      <td>2008-01-07</td>\n",
       "      <td>2008-01-08</td>\n",
       "      <td>2008-01-09</td>\n",
       "      <td>2008-01-10</td>\n",
       "    </tr>\n",
       "  </tbody>\n",
       "</table>\n",
       "</div>"
      ],
      "text/plain": [
       "Date2 2008-01-01 2008-01-02 2008-01-03 2008-01-04 2008-01-05 2008-01-06  \\\n",
       "Date  2009-01-01 2009-01-02 2009-01-03 2009-01-04 2009-01-05 2009-01-06   \n",
       "Date2 2008-01-01 2008-01-02 2008-01-03 2008-01-04 2008-01-05 2008-01-06   \n",
       "\n",
       "Date2 2008-01-07 2008-01-08 2008-01-09 2008-01-10  \n",
       "Date  2009-01-07 2009-01-08 2009-01-09 2009-01-10  \n",
       "Date2 2008-01-07 2008-01-08 2008-01-09 2008-01-10  "
      ]
     },
     "execution_count": 268,
     "metadata": {},
     "output_type": "execute_result"
    }
   ],
   "source": [
    "test['Date2'] = test.Date.apply(lambda x: str(x).replace('2009', '2008'))\n",
    "test['Date2'] = pd.to_datetime(test['Date2'])\n",
    "test.index = test['Date2']\n",
    "test[:10].T"
   ]
  },
  {
   "cell_type": "code",
   "execution_count": 269,
   "metadata": {
    "collapsed": true
   },
   "outputs": [],
   "source": [
    "# вот так переименование колонок!!!!\n",
    "\n",
    "\n",
    "tmp1.rename(columns = {'Number_SKU_Sold':'N2007'}, inplace = True)\n",
    "tmp2.rename(columns = {'Number_SKU_Sold':'N2008'}, inplace = True)\n",
    "test.rename(columns = {'Number_SKU_Sold':'N2009'}, inplace = True)\n",
    "\n",
    "# а так нельзя\n",
    "#tmp1.columns[tmp1.columns=='Number_SKU_Sold'] = 'N2007'\n",
    "#tmp2.columns[tmp2.columns=='Number_SKU_Sold'] = 'N2008'\n",
    "#test.columns[test.columns=='Number_SKU_Sold'] = 'N2009'"
   ]
  },
  {
   "cell_type": "code",
   "execution_count": 270,
   "metadata": {
    "collapsed": false
   },
   "outputs": [],
   "source": [
    "result = pd.concat([tmp1, tmp2, test], axis=1)"
   ]
  },
  {
   "cell_type": "code",
   "execution_count": 271,
   "metadata": {
    "collapsed": false
   },
   "outputs": [
    {
     "data": {
      "text/html": [
       "<div>\n",
       "<table border=\"1\" class=\"dataframe\">\n",
       "  <thead>\n",
       "    <tr style=\"text-align: right;\">\n",
       "      <th></th>\n",
       "      <th>Date</th>\n",
       "      <th>N2007</th>\n",
       "      <th>Date2</th>\n",
       "      <th>Date</th>\n",
       "      <th>N2008</th>\n",
       "      <th>Date2</th>\n",
       "      <th>Date</th>\n",
       "      <th>Date2</th>\n",
       "    </tr>\n",
       "    <tr>\n",
       "      <th>Date2</th>\n",
       "      <th></th>\n",
       "      <th></th>\n",
       "      <th></th>\n",
       "      <th></th>\n",
       "      <th></th>\n",
       "      <th></th>\n",
       "      <th></th>\n",
       "      <th></th>\n",
       "    </tr>\n",
       "  </thead>\n",
       "  <tbody>\n",
       "    <tr>\n",
       "      <th>2008-01-01</th>\n",
       "      <td>2007-01-01</td>\n",
       "      <td>31762</td>\n",
       "      <td>2008-01-01</td>\n",
       "      <td>NaT</td>\n",
       "      <td>NaN</td>\n",
       "      <td>NaT</td>\n",
       "      <td>2009-01-01</td>\n",
       "      <td>2008-01-01</td>\n",
       "    </tr>\n",
       "    <tr>\n",
       "      <th>2008-01-02</th>\n",
       "      <td>2007-01-02</td>\n",
       "      <td>285955</td>\n",
       "      <td>2008-01-02</td>\n",
       "      <td>NaT</td>\n",
       "      <td>NaN</td>\n",
       "      <td>NaT</td>\n",
       "      <td>2009-01-02</td>\n",
       "      <td>2008-01-02</td>\n",
       "    </tr>\n",
       "    <tr>\n",
       "      <th>2008-01-03</th>\n",
       "      <td>2007-01-03</td>\n",
       "      <td>740781</td>\n",
       "      <td>2008-01-03</td>\n",
       "      <td>NaT</td>\n",
       "      <td>NaN</td>\n",
       "      <td>NaT</td>\n",
       "      <td>2009-01-03</td>\n",
       "      <td>2008-01-03</td>\n",
       "    </tr>\n",
       "    <tr>\n",
       "      <th>2008-01-04</th>\n",
       "      <td>2007-01-04</td>\n",
       "      <td>508796</td>\n",
       "      <td>2008-01-04</td>\n",
       "      <td>NaT</td>\n",
       "      <td>NaN</td>\n",
       "      <td>NaT</td>\n",
       "      <td>2009-01-04</td>\n",
       "      <td>2008-01-04</td>\n",
       "    </tr>\n",
       "    <tr>\n",
       "      <th>2008-01-05</th>\n",
       "      <td>2007-01-05</td>\n",
       "      <td>445951</td>\n",
       "      <td>2008-01-05</td>\n",
       "      <td>NaT</td>\n",
       "      <td>NaN</td>\n",
       "      <td>NaT</td>\n",
       "      <td>2009-01-05</td>\n",
       "      <td>2008-01-05</td>\n",
       "    </tr>\n",
       "    <tr>\n",
       "      <th>2008-01-06</th>\n",
       "      <td>2007-01-06</td>\n",
       "      <td>347351</td>\n",
       "      <td>2008-01-06</td>\n",
       "      <td>NaT</td>\n",
       "      <td>NaN</td>\n",
       "      <td>NaT</td>\n",
       "      <td>2009-01-06</td>\n",
       "      <td>2008-01-06</td>\n",
       "    </tr>\n",
       "    <tr>\n",
       "      <th>2008-01-07</th>\n",
       "      <td>NaT</td>\n",
       "      <td>NaN</td>\n",
       "      <td>NaT</td>\n",
       "      <td>NaT</td>\n",
       "      <td>NaN</td>\n",
       "      <td>NaT</td>\n",
       "      <td>2009-01-07</td>\n",
       "      <td>2008-01-07</td>\n",
       "    </tr>\n",
       "    <tr>\n",
       "      <th>2008-01-08</th>\n",
       "      <td>NaT</td>\n",
       "      <td>NaN</td>\n",
       "      <td>NaT</td>\n",
       "      <td>2008-01-08</td>\n",
       "      <td>654647</td>\n",
       "      <td>2008-01-08</td>\n",
       "      <td>2009-01-08</td>\n",
       "      <td>2008-01-08</td>\n",
       "    </tr>\n",
       "    <tr>\n",
       "      <th>2008-01-09</th>\n",
       "      <td>2007-01-09</td>\n",
       "      <td>269415</td>\n",
       "      <td>2008-01-09</td>\n",
       "      <td>2008-01-09</td>\n",
       "      <td>734285</td>\n",
       "      <td>2008-01-09</td>\n",
       "      <td>2009-01-09</td>\n",
       "      <td>2008-01-09</td>\n",
       "    </tr>\n",
       "    <tr>\n",
       "      <th>2008-01-10</th>\n",
       "      <td>NaT</td>\n",
       "      <td>NaN</td>\n",
       "      <td>NaT</td>\n",
       "      <td>2008-01-10</td>\n",
       "      <td>1889530</td>\n",
       "      <td>2008-01-10</td>\n",
       "      <td>2009-01-10</td>\n",
       "      <td>2008-01-10</td>\n",
       "    </tr>\n",
       "  </tbody>\n",
       "</table>\n",
       "</div>"
      ],
      "text/plain": [
       "                 Date   N2007      Date2       Date    N2008      Date2  \\\n",
       "Date2                                                                     \n",
       "2008-01-01 2007-01-01   31762 2008-01-01        NaT      NaN        NaT   \n",
       "2008-01-02 2007-01-02  285955 2008-01-02        NaT      NaN        NaT   \n",
       "2008-01-03 2007-01-03  740781 2008-01-03        NaT      NaN        NaT   \n",
       "2008-01-04 2007-01-04  508796 2008-01-04        NaT      NaN        NaT   \n",
       "2008-01-05 2007-01-05  445951 2008-01-05        NaT      NaN        NaT   \n",
       "2008-01-06 2007-01-06  347351 2008-01-06        NaT      NaN        NaT   \n",
       "2008-01-07        NaT     NaN        NaT        NaT      NaN        NaT   \n",
       "2008-01-08        NaT     NaN        NaT 2008-01-08   654647 2008-01-08   \n",
       "2008-01-09 2007-01-09  269415 2008-01-09 2008-01-09   734285 2008-01-09   \n",
       "2008-01-10        NaT     NaN        NaT 2008-01-10  1889530 2008-01-10   \n",
       "\n",
       "                 Date      Date2  \n",
       "Date2                             \n",
       "2008-01-01 2009-01-01 2008-01-01  \n",
       "2008-01-02 2009-01-02 2008-01-02  \n",
       "2008-01-03 2009-01-03 2008-01-03  \n",
       "2008-01-04 2009-01-04 2008-01-04  \n",
       "2008-01-05 2009-01-05 2008-01-05  \n",
       "2008-01-06 2009-01-06 2008-01-06  \n",
       "2008-01-07 2009-01-07 2008-01-07  \n",
       "2008-01-08 2009-01-08 2008-01-08  \n",
       "2008-01-09 2009-01-09 2008-01-09  \n",
       "2008-01-10 2009-01-10 2008-01-10  "
      ]
     },
     "execution_count": 271,
     "metadata": {},
     "output_type": "execute_result"
    }
   ],
   "source": [
    "result[:10]\n"
   ]
  },
  {
   "cell_type": "code",
   "execution_count": 272,
   "metadata": {
    "collapsed": false
   },
   "outputs": [],
   "source": [
    "# устраняем неизвестности\n",
    "result.ffill(inplace=True)"
   ]
  },
  {
   "cell_type": "code",
   "execution_count": 273,
   "metadata": {
    "collapsed": false
   },
   "outputs": [
    {
     "data": {
      "text/html": [
       "<div>\n",
       "<table border=\"1\" class=\"dataframe\">\n",
       "  <thead>\n",
       "    <tr style=\"text-align: right;\">\n",
       "      <th></th>\n",
       "      <th>Date</th>\n",
       "      <th>N2007</th>\n",
       "      <th>Date2</th>\n",
       "      <th>Date</th>\n",
       "      <th>N2008</th>\n",
       "      <th>Date2</th>\n",
       "      <th>Date</th>\n",
       "      <th>Date2</th>\n",
       "    </tr>\n",
       "    <tr>\n",
       "      <th>Date2</th>\n",
       "      <th></th>\n",
       "      <th></th>\n",
       "      <th></th>\n",
       "      <th></th>\n",
       "      <th></th>\n",
       "      <th></th>\n",
       "      <th></th>\n",
       "      <th></th>\n",
       "    </tr>\n",
       "  </thead>\n",
       "  <tbody>\n",
       "    <tr>\n",
       "      <th>2008-01-01</th>\n",
       "      <td>2007-01-01</td>\n",
       "      <td>31762</td>\n",
       "      <td>2008-01-01</td>\n",
       "      <td>NaT</td>\n",
       "      <td>654647</td>\n",
       "      <td>NaT</td>\n",
       "      <td>2009-01-01</td>\n",
       "      <td>2008-01-01</td>\n",
       "    </tr>\n",
       "    <tr>\n",
       "      <th>2008-01-02</th>\n",
       "      <td>2007-01-02</td>\n",
       "      <td>285955</td>\n",
       "      <td>2008-01-02</td>\n",
       "      <td>NaT</td>\n",
       "      <td>654647</td>\n",
       "      <td>NaT</td>\n",
       "      <td>2009-01-02</td>\n",
       "      <td>2008-01-02</td>\n",
       "    </tr>\n",
       "    <tr>\n",
       "      <th>2008-01-03</th>\n",
       "      <td>2007-01-03</td>\n",
       "      <td>740781</td>\n",
       "      <td>2008-01-03</td>\n",
       "      <td>NaT</td>\n",
       "      <td>654647</td>\n",
       "      <td>NaT</td>\n",
       "      <td>2009-01-03</td>\n",
       "      <td>2008-01-03</td>\n",
       "    </tr>\n",
       "    <tr>\n",
       "      <th>2008-01-04</th>\n",
       "      <td>2007-01-04</td>\n",
       "      <td>508796</td>\n",
       "      <td>2008-01-04</td>\n",
       "      <td>NaT</td>\n",
       "      <td>654647</td>\n",
       "      <td>NaT</td>\n",
       "      <td>2009-01-04</td>\n",
       "      <td>2008-01-04</td>\n",
       "    </tr>\n",
       "    <tr>\n",
       "      <th>2008-01-05</th>\n",
       "      <td>2007-01-05</td>\n",
       "      <td>445951</td>\n",
       "      <td>2008-01-05</td>\n",
       "      <td>NaT</td>\n",
       "      <td>654647</td>\n",
       "      <td>NaT</td>\n",
       "      <td>2009-01-05</td>\n",
       "      <td>2008-01-05</td>\n",
       "    </tr>\n",
       "    <tr>\n",
       "      <th>2008-01-06</th>\n",
       "      <td>2007-01-06</td>\n",
       "      <td>347351</td>\n",
       "      <td>2008-01-06</td>\n",
       "      <td>NaT</td>\n",
       "      <td>654647</td>\n",
       "      <td>NaT</td>\n",
       "      <td>2009-01-06</td>\n",
       "      <td>2008-01-06</td>\n",
       "    </tr>\n",
       "    <tr>\n",
       "      <th>2008-01-07</th>\n",
       "      <td>2007-01-06</td>\n",
       "      <td>347351</td>\n",
       "      <td>2008-01-06</td>\n",
       "      <td>NaT</td>\n",
       "      <td>654647</td>\n",
       "      <td>NaT</td>\n",
       "      <td>2009-01-07</td>\n",
       "      <td>2008-01-07</td>\n",
       "    </tr>\n",
       "    <tr>\n",
       "      <th>2008-01-08</th>\n",
       "      <td>2007-01-06</td>\n",
       "      <td>347351</td>\n",
       "      <td>2008-01-06</td>\n",
       "      <td>2008-01-08</td>\n",
       "      <td>654647</td>\n",
       "      <td>2008-01-08</td>\n",
       "      <td>2009-01-08</td>\n",
       "      <td>2008-01-08</td>\n",
       "    </tr>\n",
       "    <tr>\n",
       "      <th>2008-01-09</th>\n",
       "      <td>2007-01-09</td>\n",
       "      <td>269415</td>\n",
       "      <td>2008-01-09</td>\n",
       "      <td>2008-01-09</td>\n",
       "      <td>734285</td>\n",
       "      <td>2008-01-09</td>\n",
       "      <td>2009-01-09</td>\n",
       "      <td>2008-01-09</td>\n",
       "    </tr>\n",
       "    <tr>\n",
       "      <th>2008-01-10</th>\n",
       "      <td>2007-01-09</td>\n",
       "      <td>269415</td>\n",
       "      <td>2008-01-09</td>\n",
       "      <td>2008-01-10</td>\n",
       "      <td>1889530</td>\n",
       "      <td>2008-01-10</td>\n",
       "      <td>2009-01-10</td>\n",
       "      <td>2008-01-10</td>\n",
       "    </tr>\n",
       "  </tbody>\n",
       "</table>\n",
       "</div>"
      ],
      "text/plain": [
       "                 Date   N2007      Date2       Date    N2008      Date2  \\\n",
       "Date2                                                                     \n",
       "2008-01-01 2007-01-01   31762 2008-01-01        NaT   654647        NaT   \n",
       "2008-01-02 2007-01-02  285955 2008-01-02        NaT   654647        NaT   \n",
       "2008-01-03 2007-01-03  740781 2008-01-03        NaT   654647        NaT   \n",
       "2008-01-04 2007-01-04  508796 2008-01-04        NaT   654647        NaT   \n",
       "2008-01-05 2007-01-05  445951 2008-01-05        NaT   654647        NaT   \n",
       "2008-01-06 2007-01-06  347351 2008-01-06        NaT   654647        NaT   \n",
       "2008-01-07 2007-01-06  347351 2008-01-06        NaT   654647        NaT   \n",
       "2008-01-08 2007-01-06  347351 2008-01-06 2008-01-08   654647 2008-01-08   \n",
       "2008-01-09 2007-01-09  269415 2008-01-09 2008-01-09   734285 2008-01-09   \n",
       "2008-01-10 2007-01-09  269415 2008-01-09 2008-01-10  1889530 2008-01-10   \n",
       "\n",
       "                 Date      Date2  \n",
       "Date2                             \n",
       "2008-01-01 2009-01-01 2008-01-01  \n",
       "2008-01-02 2009-01-02 2008-01-02  \n",
       "2008-01-03 2009-01-03 2008-01-03  \n",
       "2008-01-04 2009-01-04 2008-01-04  \n",
       "2008-01-05 2009-01-05 2008-01-05  \n",
       "2008-01-06 2009-01-06 2008-01-06  \n",
       "2008-01-07 2009-01-07 2008-01-07  \n",
       "2008-01-08 2009-01-08 2008-01-08  \n",
       "2008-01-09 2009-01-09 2008-01-09  \n",
       "2008-01-10 2009-01-10 2008-01-10  "
      ]
     },
     "execution_count": 273,
     "metadata": {},
     "output_type": "execute_result"
    }
   ],
   "source": [
    "result['N2008'] = result['N2008'].fillna(654647)\n",
    "result[:10]"
   ]
  },
  {
   "cell_type": "code",
   "execution_count": 274,
   "metadata": {
    "collapsed": true
   },
   "outputs": [],
   "source": [
    "result.columns = ['Date2007', 'N2007', 'Date2007-08', 'Date2008', 'N2008', 'Date2008-08' , 'Date2009', 'Date2009-08' ]"
   ]
  },
  {
   "cell_type": "code",
   "execution_count": 276,
   "metadata": {
    "collapsed": false
   },
   "outputs": [
    {
     "data": {
      "text/html": [
       "<div>\n",
       "<table border=\"1\" class=\"dataframe\">\n",
       "  <thead>\n",
       "    <tr style=\"text-align: right;\">\n",
       "      <th></th>\n",
       "      <th>Date2007</th>\n",
       "      <th>N2007</th>\n",
       "      <th>Date2007-08</th>\n",
       "      <th>Date2008</th>\n",
       "      <th>N2008</th>\n",
       "      <th>Date2008-08</th>\n",
       "      <th>Date2009</th>\n",
       "      <th>Date2009-08</th>\n",
       "    </tr>\n",
       "    <tr>\n",
       "      <th>Date2</th>\n",
       "      <th></th>\n",
       "      <th></th>\n",
       "      <th></th>\n",
       "      <th></th>\n",
       "      <th></th>\n",
       "      <th></th>\n",
       "      <th></th>\n",
       "      <th></th>\n",
       "    </tr>\n",
       "  </thead>\n",
       "  <tbody>\n",
       "    <tr>\n",
       "      <th>2008-01-01</th>\n",
       "      <td>2007-01-01</td>\n",
       "      <td>31762</td>\n",
       "      <td>2008-01-01</td>\n",
       "      <td>NaT</td>\n",
       "      <td>654647</td>\n",
       "      <td>NaT</td>\n",
       "      <td>2009-01-01</td>\n",
       "      <td>2008-01-01</td>\n",
       "    </tr>\n",
       "    <tr>\n",
       "      <th>2008-01-02</th>\n",
       "      <td>2007-01-02</td>\n",
       "      <td>285955</td>\n",
       "      <td>2008-01-02</td>\n",
       "      <td>NaT</td>\n",
       "      <td>654647</td>\n",
       "      <td>NaT</td>\n",
       "      <td>2009-01-02</td>\n",
       "      <td>2008-01-02</td>\n",
       "    </tr>\n",
       "    <tr>\n",
       "      <th>2008-01-03</th>\n",
       "      <td>2007-01-03</td>\n",
       "      <td>740781</td>\n",
       "      <td>2008-01-03</td>\n",
       "      <td>NaT</td>\n",
       "      <td>654647</td>\n",
       "      <td>NaT</td>\n",
       "      <td>2009-01-03</td>\n",
       "      <td>2008-01-03</td>\n",
       "    </tr>\n",
       "    <tr>\n",
       "      <th>2008-01-04</th>\n",
       "      <td>2007-01-04</td>\n",
       "      <td>508796</td>\n",
       "      <td>2008-01-04</td>\n",
       "      <td>NaT</td>\n",
       "      <td>654647</td>\n",
       "      <td>NaT</td>\n",
       "      <td>2009-01-04</td>\n",
       "      <td>2008-01-04</td>\n",
       "    </tr>\n",
       "    <tr>\n",
       "      <th>2008-01-05</th>\n",
       "      <td>2007-01-05</td>\n",
       "      <td>445951</td>\n",
       "      <td>2008-01-05</td>\n",
       "      <td>NaT</td>\n",
       "      <td>654647</td>\n",
       "      <td>NaT</td>\n",
       "      <td>2009-01-05</td>\n",
       "      <td>2008-01-05</td>\n",
       "    </tr>\n",
       "    <tr>\n",
       "      <th>2008-01-06</th>\n",
       "      <td>2007-01-06</td>\n",
       "      <td>347351</td>\n",
       "      <td>2008-01-06</td>\n",
       "      <td>NaT</td>\n",
       "      <td>654647</td>\n",
       "      <td>NaT</td>\n",
       "      <td>2009-01-06</td>\n",
       "      <td>2008-01-06</td>\n",
       "    </tr>\n",
       "    <tr>\n",
       "      <th>2008-01-07</th>\n",
       "      <td>2007-01-06</td>\n",
       "      <td>347351</td>\n",
       "      <td>2008-01-06</td>\n",
       "      <td>NaT</td>\n",
       "      <td>654647</td>\n",
       "      <td>NaT</td>\n",
       "      <td>2009-01-07</td>\n",
       "      <td>2008-01-07</td>\n",
       "    </tr>\n",
       "    <tr>\n",
       "      <th>2008-01-08</th>\n",
       "      <td>2007-01-06</td>\n",
       "      <td>347351</td>\n",
       "      <td>2008-01-06</td>\n",
       "      <td>2008-01-08</td>\n",
       "      <td>654647</td>\n",
       "      <td>2008-01-08</td>\n",
       "      <td>2009-01-08</td>\n",
       "      <td>2008-01-08</td>\n",
       "    </tr>\n",
       "    <tr>\n",
       "      <th>2008-01-09</th>\n",
       "      <td>2007-01-09</td>\n",
       "      <td>269415</td>\n",
       "      <td>2008-01-09</td>\n",
       "      <td>2008-01-09</td>\n",
       "      <td>734285</td>\n",
       "      <td>2008-01-09</td>\n",
       "      <td>2009-01-09</td>\n",
       "      <td>2008-01-09</td>\n",
       "    </tr>\n",
       "    <tr>\n",
       "      <th>2008-01-10</th>\n",
       "      <td>2007-01-09</td>\n",
       "      <td>269415</td>\n",
       "      <td>2008-01-09</td>\n",
       "      <td>2008-01-10</td>\n",
       "      <td>1889530</td>\n",
       "      <td>2008-01-10</td>\n",
       "      <td>2009-01-10</td>\n",
       "      <td>2008-01-10</td>\n",
       "    </tr>\n",
       "  </tbody>\n",
       "</table>\n",
       "</div>"
      ],
      "text/plain": [
       "             Date2007   N2007 Date2007-08   Date2008    N2008 Date2008-08  \\\n",
       "Date2                                                                       \n",
       "2008-01-01 2007-01-01   31762  2008-01-01        NaT   654647         NaT   \n",
       "2008-01-02 2007-01-02  285955  2008-01-02        NaT   654647         NaT   \n",
       "2008-01-03 2007-01-03  740781  2008-01-03        NaT   654647         NaT   \n",
       "2008-01-04 2007-01-04  508796  2008-01-04        NaT   654647         NaT   \n",
       "2008-01-05 2007-01-05  445951  2008-01-05        NaT   654647         NaT   \n",
       "2008-01-06 2007-01-06  347351  2008-01-06        NaT   654647         NaT   \n",
       "2008-01-07 2007-01-06  347351  2008-01-06        NaT   654647         NaT   \n",
       "2008-01-08 2007-01-06  347351  2008-01-06 2008-01-08   654647  2008-01-08   \n",
       "2008-01-09 2007-01-09  269415  2008-01-09 2008-01-09   734285  2008-01-09   \n",
       "2008-01-10 2007-01-09  269415  2008-01-09 2008-01-10  1889530  2008-01-10   \n",
       "\n",
       "             Date2009 Date2009-08  \n",
       "Date2                              \n",
       "2008-01-01 2009-01-01  2008-01-01  \n",
       "2008-01-02 2009-01-02  2008-01-02  \n",
       "2008-01-03 2009-01-03  2008-01-03  \n",
       "2008-01-04 2009-01-04  2008-01-04  \n",
       "2008-01-05 2009-01-05  2008-01-05  \n",
       "2008-01-06 2009-01-06  2008-01-06  \n",
       "2008-01-07 2009-01-07  2008-01-07  \n",
       "2008-01-08 2009-01-08  2008-01-08  \n",
       "2008-01-09 2009-01-09  2008-01-09  \n",
       "2008-01-10 2009-01-10  2008-01-10  "
      ]
     },
     "execution_count": 276,
     "metadata": {},
     "output_type": "execute_result"
    }
   ],
   "source": [
    "result[:10]"
   ]
  },
  {
   "cell_type": "markdown",
   "metadata": {},
   "source": [
    "## Тупые ответы по прошлым годам"
   ]
  },
  {
   "cell_type": "code",
   "execution_count": 178,
   "metadata": {
    "collapsed": false
   },
   "outputs": [],
   "source": [
    "answ1 = result[['Date2009', 'N2008']]\n",
    "answ1.columns = ['Date','Number_SKU_Sold']\n",
    "answ1.to_csv('d:\\\\Competitions\\\\minidatahack\\\\answ1.csv', index=False, date_format='%d-%b-%y')"
   ]
  },
  {
   "cell_type": "markdown",
   "metadata": {},
   "source": [
    "в файлах придётся убрать лишний день високосного года\n",
    "\n",
    "а ещё 01-Jan-2016 -> 1-Jan-2016"
   ]
  },
  {
   "cell_type": "code",
   "execution_count": 184,
   "metadata": {
    "collapsed": true
   },
   "outputs": [],
   "source": [
    "answ2 = result[['Date2009', 'N2007']]\n",
    "answ2.columns = ['Date','Number_SKU_Sold']\n",
    "answ2.to_csv('d:\\\\Competitions\\\\minidatahack\\\\answ2.csv', index=False, date_format='%d-%b-%y')"
   ]
  },
  {
   "cell_type": "markdown",
   "metadata": {},
   "source": [
    "# скользящее среднее"
   ]
  },
  {
   "cell_type": "code",
   "execution_count": 278,
   "metadata": {
    "collapsed": false
   },
   "outputs": [
    {
     "data": {
      "text/plain": [
       "[<matplotlib.lines.Line2D at 0x12498e80>]"
      ]
     },
     "execution_count": 278,
     "metadata": {},
     "output_type": "execute_result"
    },
    {
     "data": {
      "image/png": "[encoded data removed]",
      "text/plain": [
       "<matplotlib.figure.Figure at 0x125b01d0>"
      ]
     },
     "metadata": {},
     "output_type": "display_data"
    }
   ],
   "source": [
    "plt.plot(result.N2008.values)\n",
    "plt.plot(pd.rolling_mean(result.N2008, 10).values)\n",
    "plt.plot(pd.rolling_mean(result.N2008, 15).values)"
   ]
  },
  {
   "cell_type": "code",
   "execution_count": 281,
   "metadata": {
    "collapsed": true
   },
   "outputs": [],
   "source": [
    "result['new'] = pd.rolling_mean(result.N2008, 10)"
   ]
  },
  {
   "cell_type": "code",
   "execution_count": 282,
   "metadata": {
    "collapsed": false
   },
   "outputs": [
    {
     "data": {
      "text/html": [
       "<div>\n",
       "<table border=\"1\" class=\"dataframe\">\n",
       "  <thead>\n",
       "    <tr style=\"text-align: right;\">\n",
       "      <th></th>\n",
       "      <th>Date2007</th>\n",
       "      <th>N2007</th>\n",
       "      <th>Date2007-08</th>\n",
       "      <th>Date2008</th>\n",
       "      <th>N2008</th>\n",
       "      <th>Date2008-08</th>\n",
       "      <th>Date2009</th>\n",
       "      <th>Date2009-08</th>\n",
       "      <th>new</th>\n",
       "    </tr>\n",
       "    <tr>\n",
       "      <th>Date2</th>\n",
       "      <th></th>\n",
       "      <th></th>\n",
       "      <th></th>\n",
       "      <th></th>\n",
       "      <th></th>\n",
       "      <th></th>\n",
       "      <th></th>\n",
       "      <th></th>\n",
       "      <th></th>\n",
       "    </tr>\n",
       "  </thead>\n",
       "  <tbody>\n",
       "    <tr>\n",
       "      <th>2008-01-01</th>\n",
       "      <td>2007-01-01</td>\n",
       "      <td>31762</td>\n",
       "      <td>2008-01-01</td>\n",
       "      <td>NaT</td>\n",
       "      <td>654647</td>\n",
       "      <td>NaT</td>\n",
       "      <td>2009-01-01</td>\n",
       "      <td>2008-01-01</td>\n",
       "      <td>NaN</td>\n",
       "    </tr>\n",
       "    <tr>\n",
       "      <th>2008-01-02</th>\n",
       "      <td>2007-01-02</td>\n",
       "      <td>285955</td>\n",
       "      <td>2008-01-02</td>\n",
       "      <td>NaT</td>\n",
       "      <td>654647</td>\n",
       "      <td>NaT</td>\n",
       "      <td>2009-01-02</td>\n",
       "      <td>2008-01-02</td>\n",
       "      <td>NaN</td>\n",
       "    </tr>\n",
       "    <tr>\n",
       "      <th>2008-01-03</th>\n",
       "      <td>2007-01-03</td>\n",
       "      <td>740781</td>\n",
       "      <td>2008-01-03</td>\n",
       "      <td>NaT</td>\n",
       "      <td>654647</td>\n",
       "      <td>NaT</td>\n",
       "      <td>2009-01-03</td>\n",
       "      <td>2008-01-03</td>\n",
       "      <td>NaN</td>\n",
       "    </tr>\n",
       "    <tr>\n",
       "      <th>2008-01-04</th>\n",
       "      <td>2007-01-04</td>\n",
       "      <td>508796</td>\n",
       "      <td>2008-01-04</td>\n",
       "      <td>NaT</td>\n",
       "      <td>654647</td>\n",
       "      <td>NaT</td>\n",
       "      <td>2009-01-04</td>\n",
       "      <td>2008-01-04</td>\n",
       "      <td>NaN</td>\n",
       "    </tr>\n",
       "    <tr>\n",
       "      <th>2008-01-05</th>\n",
       "      <td>2007-01-05</td>\n",
       "      <td>445951</td>\n",
       "      <td>2008-01-05</td>\n",
       "      <td>NaT</td>\n",
       "      <td>654647</td>\n",
       "      <td>NaT</td>\n",
       "      <td>2009-01-05</td>\n",
       "      <td>2008-01-05</td>\n",
       "      <td>NaN</td>\n",
       "    </tr>\n",
       "    <tr>\n",
       "      <th>2008-01-06</th>\n",
       "      <td>2007-01-06</td>\n",
       "      <td>347351</td>\n",
       "      <td>2008-01-06</td>\n",
       "      <td>NaT</td>\n",
       "      <td>654647</td>\n",
       "      <td>NaT</td>\n",
       "      <td>2009-01-06</td>\n",
       "      <td>2008-01-06</td>\n",
       "      <td>NaN</td>\n",
       "    </tr>\n",
       "    <tr>\n",
       "      <th>2008-01-07</th>\n",
       "      <td>2007-01-06</td>\n",
       "      <td>347351</td>\n",
       "      <td>2008-01-06</td>\n",
       "      <td>NaT</td>\n",
       "      <td>654647</td>\n",
       "      <td>NaT</td>\n",
       "      <td>2009-01-07</td>\n",
       "      <td>2008-01-07</td>\n",
       "      <td>NaN</td>\n",
       "    </tr>\n",
       "    <tr>\n",
       "      <th>2008-01-08</th>\n",
       "      <td>2007-01-06</td>\n",
       "      <td>347351</td>\n",
       "      <td>2008-01-06</td>\n",
       "      <td>2008-01-08</td>\n",
       "      <td>654647</td>\n",
       "      <td>2008-01-08</td>\n",
       "      <td>2009-01-08</td>\n",
       "      <td>2008-01-08</td>\n",
       "      <td>NaN</td>\n",
       "    </tr>\n",
       "    <tr>\n",
       "      <th>2008-01-09</th>\n",
       "      <td>2007-01-09</td>\n",
       "      <td>269415</td>\n",
       "      <td>2008-01-09</td>\n",
       "      <td>2008-01-09</td>\n",
       "      <td>734285</td>\n",
       "      <td>2008-01-09</td>\n",
       "      <td>2009-01-09</td>\n",
       "      <td>2008-01-09</td>\n",
       "      <td>NaN</td>\n",
       "    </tr>\n",
       "    <tr>\n",
       "      <th>2008-01-10</th>\n",
       "      <td>2007-01-09</td>\n",
       "      <td>269415</td>\n",
       "      <td>2008-01-09</td>\n",
       "      <td>2008-01-10</td>\n",
       "      <td>1889530</td>\n",
       "      <td>2008-01-10</td>\n",
       "      <td>2009-01-10</td>\n",
       "      <td>2008-01-10</td>\n",
       "      <td>786099.1</td>\n",
       "    </tr>\n",
       "  </tbody>\n",
       "</table>\n",
       "</div>"
      ],
      "text/plain": [
       "             Date2007   N2007 Date2007-08   Date2008    N2008 Date2008-08  \\\n",
       "Date2                                                                       \n",
       "2008-01-01 2007-01-01   31762  2008-01-01        NaT   654647         NaT   \n",
       "2008-01-02 2007-01-02  285955  2008-01-02        NaT   654647         NaT   \n",
       "2008-01-03 2007-01-03  740781  2008-01-03        NaT   654647         NaT   \n",
       "2008-01-04 2007-01-04  508796  2008-01-04        NaT   654647         NaT   \n",
       "2008-01-05 2007-01-05  445951  2008-01-05        NaT   654647         NaT   \n",
       "2008-01-06 2007-01-06  347351  2008-01-06        NaT   654647         NaT   \n",
       "2008-01-07 2007-01-06  347351  2008-01-06        NaT   654647         NaT   \n",
       "2008-01-08 2007-01-06  347351  2008-01-06 2008-01-08   654647  2008-01-08   \n",
       "2008-01-09 2007-01-09  269415  2008-01-09 2008-01-09   734285  2008-01-09   \n",
       "2008-01-10 2007-01-09  269415  2008-01-09 2008-01-10  1889530  2008-01-10   \n",
       "\n",
       "             Date2009 Date2009-08       new  \n",
       "Date2                                        \n",
       "2008-01-01 2009-01-01  2008-01-01       NaN  \n",
       "2008-01-02 2009-01-02  2008-01-02       NaN  \n",
       "2008-01-03 2009-01-03  2008-01-03       NaN  \n",
       "2008-01-04 2009-01-04  2008-01-04       NaN  \n",
       "2008-01-05 2009-01-05  2008-01-05       NaN  \n",
       "2008-01-06 2009-01-06  2008-01-06       NaN  \n",
       "2008-01-07 2009-01-07  2008-01-07       NaN  \n",
       "2008-01-08 2009-01-08  2008-01-08       NaN  \n",
       "2008-01-09 2009-01-09  2008-01-09       NaN  \n",
       "2008-01-10 2009-01-10  2008-01-10  786099.1  "
      ]
     },
     "execution_count": 282,
     "metadata": {},
     "output_type": "execute_result"
    }
   ],
   "source": [
    "result[:10]"
   ]
  },
  {
   "cell_type": "code",
   "execution_count": 283,
   "metadata": {
    "collapsed": false
   },
   "outputs": [
    {
     "name": "stderr",
     "output_type": "stream",
     "text": [
      "C:\\Anaconda3\\lib\\site-packages\\pandas\\core\\internals.py:4288: FutureWarning: elementwise comparison failed; returning scalar instead, but in the future will perform elementwise comparison\n",
      "  comp = (nn == nn_at)\n"
     ]
    }
   ],
   "source": [
    "result['new'] = result.new.fillna('786099.1')"
   ]
  },
  {
   "cell_type": "code",
   "execution_count": 284,
   "metadata": {
    "collapsed": false
   },
   "outputs": [
    {
     "data": {
      "text/html": [
       "<div>\n",
       "<table border=\"1\" class=\"dataframe\">\n",
       "  <thead>\n",
       "    <tr style=\"text-align: right;\">\n",
       "      <th></th>\n",
       "      <th>Date2007</th>\n",
       "      <th>N2007</th>\n",
       "      <th>Date2007-08</th>\n",
       "      <th>Date2008</th>\n",
       "      <th>N2008</th>\n",
       "      <th>Date2008-08</th>\n",
       "      <th>Date2009</th>\n",
       "      <th>Date2009-08</th>\n",
       "      <th>new</th>\n",
       "    </tr>\n",
       "    <tr>\n",
       "      <th>Date2</th>\n",
       "      <th></th>\n",
       "      <th></th>\n",
       "      <th></th>\n",
       "      <th></th>\n",
       "      <th></th>\n",
       "      <th></th>\n",
       "      <th></th>\n",
       "      <th></th>\n",
       "      <th></th>\n",
       "    </tr>\n",
       "  </thead>\n",
       "  <tbody>\n",
       "    <tr>\n",
       "      <th>2008-01-01</th>\n",
       "      <td>2007-01-01</td>\n",
       "      <td>31762</td>\n",
       "      <td>2008-01-01</td>\n",
       "      <td>NaT</td>\n",
       "      <td>654647</td>\n",
       "      <td>NaT</td>\n",
       "      <td>2009-01-01</td>\n",
       "      <td>2008-01-01</td>\n",
       "      <td>786099.1</td>\n",
       "    </tr>\n",
       "    <tr>\n",
       "      <th>2008-01-02</th>\n",
       "      <td>2007-01-02</td>\n",
       "      <td>285955</td>\n",
       "      <td>2008-01-02</td>\n",
       "      <td>NaT</td>\n",
       "      <td>654647</td>\n",
       "      <td>NaT</td>\n",
       "      <td>2009-01-02</td>\n",
       "      <td>2008-01-02</td>\n",
       "      <td>786099.1</td>\n",
       "    </tr>\n",
       "    <tr>\n",
       "      <th>2008-01-03</th>\n",
       "      <td>2007-01-03</td>\n",
       "      <td>740781</td>\n",
       "      <td>2008-01-03</td>\n",
       "      <td>NaT</td>\n",
       "      <td>654647</td>\n",
       "      <td>NaT</td>\n",
       "      <td>2009-01-03</td>\n",
       "      <td>2008-01-03</td>\n",
       "      <td>786099.1</td>\n",
       "    </tr>\n",
       "    <tr>\n",
       "      <th>2008-01-04</th>\n",
       "      <td>2007-01-04</td>\n",
       "      <td>508796</td>\n",
       "      <td>2008-01-04</td>\n",
       "      <td>NaT</td>\n",
       "      <td>654647</td>\n",
       "      <td>NaT</td>\n",
       "      <td>2009-01-04</td>\n",
       "      <td>2008-01-04</td>\n",
       "      <td>786099.1</td>\n",
       "    </tr>\n",
       "    <tr>\n",
       "      <th>2008-01-05</th>\n",
       "      <td>2007-01-05</td>\n",
       "      <td>445951</td>\n",
       "      <td>2008-01-05</td>\n",
       "      <td>NaT</td>\n",
       "      <td>654647</td>\n",
       "      <td>NaT</td>\n",
       "      <td>2009-01-05</td>\n",
       "      <td>2008-01-05</td>\n",
       "      <td>786099.1</td>\n",
       "    </tr>\n",
       "    <tr>\n",
       "      <th>2008-01-06</th>\n",
       "      <td>2007-01-06</td>\n",
       "      <td>347351</td>\n",
       "      <td>2008-01-06</td>\n",
       "      <td>NaT</td>\n",
       "      <td>654647</td>\n",
       "      <td>NaT</td>\n",
       "      <td>2009-01-06</td>\n",
       "      <td>2008-01-06</td>\n",
       "      <td>786099.1</td>\n",
       "    </tr>\n",
       "    <tr>\n",
       "      <th>2008-01-07</th>\n",
       "      <td>2007-01-06</td>\n",
       "      <td>347351</td>\n",
       "      <td>2008-01-06</td>\n",
       "      <td>NaT</td>\n",
       "      <td>654647</td>\n",
       "      <td>NaT</td>\n",
       "      <td>2009-01-07</td>\n",
       "      <td>2008-01-07</td>\n",
       "      <td>786099.1</td>\n",
       "    </tr>\n",
       "    <tr>\n",
       "      <th>2008-01-08</th>\n",
       "      <td>2007-01-06</td>\n",
       "      <td>347351</td>\n",
       "      <td>2008-01-06</td>\n",
       "      <td>2008-01-08</td>\n",
       "      <td>654647</td>\n",
       "      <td>2008-01-08</td>\n",
       "      <td>2009-01-08</td>\n",
       "      <td>2008-01-08</td>\n",
       "      <td>786099.1</td>\n",
       "    </tr>\n",
       "    <tr>\n",
       "      <th>2008-01-09</th>\n",
       "      <td>2007-01-09</td>\n",
       "      <td>269415</td>\n",
       "      <td>2008-01-09</td>\n",
       "      <td>2008-01-09</td>\n",
       "      <td>734285</td>\n",
       "      <td>2008-01-09</td>\n",
       "      <td>2009-01-09</td>\n",
       "      <td>2008-01-09</td>\n",
       "      <td>786099.1</td>\n",
       "    </tr>\n",
       "    <tr>\n",
       "      <th>2008-01-10</th>\n",
       "      <td>2007-01-09</td>\n",
       "      <td>269415</td>\n",
       "      <td>2008-01-09</td>\n",
       "      <td>2008-01-10</td>\n",
       "      <td>1889530</td>\n",
       "      <td>2008-01-10</td>\n",
       "      <td>2009-01-10</td>\n",
       "      <td>2008-01-10</td>\n",
       "      <td>786099</td>\n",
       "    </tr>\n",
       "  </tbody>\n",
       "</table>\n",
       "</div>"
      ],
      "text/plain": [
       "             Date2007   N2007 Date2007-08   Date2008    N2008 Date2008-08  \\\n",
       "Date2                                                                       \n",
       "2008-01-01 2007-01-01   31762  2008-01-01        NaT   654647         NaT   \n",
       "2008-01-02 2007-01-02  285955  2008-01-02        NaT   654647         NaT   \n",
       "2008-01-03 2007-01-03  740781  2008-01-03        NaT   654647         NaT   \n",
       "2008-01-04 2007-01-04  508796  2008-01-04        NaT   654647         NaT   \n",
       "2008-01-05 2007-01-05  445951  2008-01-05        NaT   654647         NaT   \n",
       "2008-01-06 2007-01-06  347351  2008-01-06        NaT   654647         NaT   \n",
       "2008-01-07 2007-01-06  347351  2008-01-06        NaT   654647         NaT   \n",
       "2008-01-08 2007-01-06  347351  2008-01-06 2008-01-08   654647  2008-01-08   \n",
       "2008-01-09 2007-01-09  269415  2008-01-09 2008-01-09   734285  2008-01-09   \n",
       "2008-01-10 2007-01-09  269415  2008-01-09 2008-01-10  1889530  2008-01-10   \n",
       "\n",
       "             Date2009 Date2009-08       new  \n",
       "Date2                                        \n",
       "2008-01-01 2009-01-01  2008-01-01  786099.1  \n",
       "2008-01-02 2009-01-02  2008-01-02  786099.1  \n",
       "2008-01-03 2009-01-03  2008-01-03  786099.1  \n",
       "2008-01-04 2009-01-04  2008-01-04  786099.1  \n",
       "2008-01-05 2009-01-05  2008-01-05  786099.1  \n",
       "2008-01-06 2009-01-06  2008-01-06  786099.1  \n",
       "2008-01-07 2009-01-07  2008-01-07  786099.1  \n",
       "2008-01-08 2009-01-08  2008-01-08  786099.1  \n",
       "2008-01-09 2009-01-09  2008-01-09  786099.1  \n",
       "2008-01-10 2009-01-10  2008-01-10    786099  "
      ]
     },
     "execution_count": 284,
     "metadata": {},
     "output_type": "execute_result"
    }
   ],
   "source": [
    "result[:10]"
   ]
  },
  {
   "cell_type": "code",
   "execution_count": 220,
   "metadata": {
    "collapsed": true
   },
   "outputs": [],
   "source": [
    "answ2 = result[['Date2009', 'new']]\n",
    "answ2.columns = ['Date','Number_SKU_Sold']\n",
    "answ2.to_csv('d:\\\\Competitions\\\\minidatahack\\\\answ3.csv', index=False, date_format='%d-%b-%y')"
   ]
  },
  {
   "cell_type": "code",
   "execution_count": null,
   "metadata": {
    "collapsed": false
   },
   "outputs": [],
   "source": []
  },
  {
   "cell_type": "markdown",
   "metadata": {},
   "source": [
    "## что там за дни"
   ]
  },
  {
   "cell_type": "code",
   "execution_count": 285,
   "metadata": {
    "collapsed": false
   },
   "outputs": [
    {
     "data": {
      "text/plain": [
       "<matplotlib.axes._subplots.AxesSubplot at 0x125daa20>"
      ]
     },
     "execution_count": 285,
     "metadata": {},
     "output_type": "execute_result"
    },
    {
     "data": {
      "image/png": "[encoded data removed]",
      "text/plain": [
       "<matplotlib.figure.Figure at 0x11be89e8>"
      ]
     },
     "metadata": {},
     "output_type": "display_data"
    }
   ],
   "source": [
    "tmp2.N2008[25:75].plot()"
   ]
  },
  {
   "cell_type": "markdown",
   "metadata": {},
   "source": [
    "# Прогнозирование временных рядов"
   ]
  },
  {
   "cell_type": "markdown",
   "metadata": {},
   "source": [
    "## AR"
   ]
  },
  {
   "cell_type": "code",
   "execution_count": 228,
   "metadata": {
    "collapsed": false
   },
   "outputs": [],
   "source": [
    "r = tmp2['N2008']+0.0"
   ]
  },
  {
   "cell_type": "code",
   "execution_count": 229,
   "metadata": {
    "collapsed": false
   },
   "outputs": [
    {
     "data": {
      "text/plain": [
       "<matplotlib.text.Text at 0x1125e6a0>"
      ]
     },
     "execution_count": 229,
     "metadata": {},
     "output_type": "execute_result"
    },
    {
     "data": {
      "image/png": "[encoded data removed]",
      "text/plain": [
       "<matplotlib.figure.Figure at 0x11248a90>"
      ]
     },
     "metadata": {},
     "output_type": "display_data"
    }
   ],
   "source": [
    "from statsmodels.tsa.arima_model import ARIMA\n",
    "model = ARIMA(r, order=(2, 1, 0))  \n",
    "results_AR = model.fit(disp=-1)  \n",
    "plt.plot(r)\n",
    "plt.plot(results_AR.fittedvalues, color='red')\n",
    "plt.title('RSS: %.4f'% sum((results_AR.fittedvalues-r)**2)) "
   ]
  },
  {
   "cell_type": "markdown",
   "metadata": {},
   "source": [
    "## MA"
   ]
  },
  {
   "cell_type": "code",
   "execution_count": 230,
   "metadata": {
    "collapsed": false
   },
   "outputs": [
    {
     "data": {
      "text/plain": [
       "<matplotlib.text.Text at 0x113b2400>"
      ]
     },
     "execution_count": 230,
     "metadata": {},
     "output_type": "execute_result"
    },
    {
     "data": {
      "image/png": "[encoded data removed]",
      "text/plain": [
       "<matplotlib.figure.Figure at 0x11207128>"
      ]
     },
     "metadata": {},
     "output_type": "display_data"
    }
   ],
   "source": [
    "model = ARIMA(r, order=(0, 1, 2))  \n",
    "results_MA = model.fit(disp=-1)  \n",
    "plt.plot(r)\n",
    "plt.plot(results_MA.fittedvalues, color='red')\n",
    "plt.title('RSS: %.4f'% sum((results_MA.fittedvalues-r)**2))"
   ]
  },
  {
   "cell_type": "markdown",
   "metadata": {},
   "source": [
    "# combined"
   ]
  },
  {
   "cell_type": "code",
   "execution_count": 232,
   "metadata": {
    "collapsed": false
   },
   "outputs": [
    {
     "data": {
      "text/plain": [
       "<matplotlib.text.Text at 0x114a8cc0>"
      ]
     },
     "execution_count": 232,
     "metadata": {},
     "output_type": "execute_result"
    },
    {
     "data": {
      "image/png": "[encoded data removed]",
      "text/plain": [
       "<matplotlib.figure.Figure at 0x1121a0f0>"
      ]
     },
     "metadata": {},
     "output_type": "display_data"
    }
   ],
   "source": [
    "model = ARIMA(r, order=(2, 1, 2))  \n",
    "results_ARIMA = model.fit(disp=-1)  \n",
    "plt.plot(r)\n",
    "plt.plot(results_ARIMA.fittedvalues, color='red')\n",
    "plt.title('RSS: %.4f'% sum((results_ARIMA.fittedvalues-r)**2))"
   ]
  },
  {
   "cell_type": "code",
   "execution_count": null,
   "metadata": {
    "collapsed": true
   },
   "outputs": [],
   "source": []
  },
  {
   "cell_type": "code",
   "execution_count": null,
   "metadata": {
    "collapsed": true
   },
   "outputs": [],
   "source": []
  },
  {
   "cell_type": "code",
   "execution_count": null,
   "metadata": {
    "collapsed": true
   },
   "outputs": [],
   "source": []
  },
  {
   "cell_type": "code",
   "execution_count": null,
   "metadata": {
    "collapsed": true
   },
   "outputs": [],
   "source": []
  },
  {
   "cell_type": "code",
   "execution_count": null,
   "metadata": {
    "collapsed": true
   },
   "outputs": [],
   "source": []
  },
  {
   "cell_type": "code",
   "execution_count": null,
   "metadata": {
    "collapsed": true
   },
   "outputs": [],
   "source": []
  },
  {
   "cell_type": "code",
   "execution_count": null,
   "metadata": {
    "collapsed": true
   },
   "outputs": [],
   "source": []
  },
  {
   "cell_type": "code",
   "execution_count": null,
   "metadata": {
    "collapsed": true
   },
   "outputs": [],
   "source": []
  },
  {
   "cell_type": "code",
   "execution_count": null,
   "metadata": {
    "collapsed": true
   },
   "outputs": [],
   "source": []
  },
  {
   "cell_type": "code",
   "execution_count": null,
   "metadata": {
    "collapsed": true
   },
   "outputs": [],
   "source": []
  },
  {
   "cell_type": "code",
   "execution_count": null,
   "metadata": {
    "collapsed": true
   },
   "outputs": [],
   "source": []
  },
  {
   "cell_type": "code",
   "execution_count": null,
   "metadata": {
    "collapsed": true
   },
   "outputs": [],
   "source": []
  },
  {
   "cell_type": "code",
   "execution_count": null,
   "metadata": {
    "collapsed": true
   },
   "outputs": [],
   "source": []
  }
 ],
 "metadata": {
  "kernelspec": {
   "display_name": "Python 3",
   "language": "python",
   "name": "python3"
  },
  "language_info": {
   "codemirror_mode": {
    "name": "ipython",
    "version": 3
   },
   "file_extension": ".py",
   "mimetype": "text/x-python",
   "name": "python",
   "nbconvert_exporter": "python",
   "pygments_lexer": "ipython3",
   "version": "3.5.1"
  }
 },
 "nbformat": 4,
 "nbformat_minor": 0
}
